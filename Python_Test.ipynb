{
 "cells": [
  {
   "cell_type": "markdown",
   "id": "652090fe",
   "metadata": {},
   "source": [
    "# Write a Program to multiply all the items in a list."
   ]
  },
  {
   "cell_type": "code",
   "execution_count": 2,
   "id": "748ca75a",
   "metadata": {},
   "outputs": [
    {
     "name": "stdout",
     "output_type": "stream",
     "text": [
      "240000\n"
     ]
    }
   ],
   "source": [
    "l=[10,20,30,40]\n",
    "mul=1\n",
    "for i in l:\n",
    "    mul = mul*i\n",
    "print(mul)    "
   ]
  },
  {
   "cell_type": "markdown",
   "id": "4051c2c1",
   "metadata": {},
   "source": [
    "# Write a Program to get the largest number from a list"
   ]
  },
  {
   "cell_type": "code",
   "execution_count": 6,
   "id": "2235a9ed",
   "metadata": {},
   "outputs": [
    {
     "name": "stdout",
     "output_type": "stream",
     "text": [
      "65\n"
     ]
    }
   ],
   "source": [
    "l = [34,65,30,40,11,51]\n",
    "max = l[0]\n",
    "for x in l:\n",
    "    if x>max:\n",
    "        max = x\n",
    "print(max)        "
   ]
  },
  {
   "cell_type": "markdown",
   "id": "9daf9d68",
   "metadata": {},
   "source": [
    "# Write a Program to get the smallest number from a list"
   ]
  },
  {
   "cell_type": "code",
   "execution_count": 7,
   "id": "06added3",
   "metadata": {},
   "outputs": [
    {
     "name": "stdout",
     "output_type": "stream",
     "text": [
      "11\n"
     ]
    }
   ],
   "source": [
    "l = [34,65,30,40,11,51]\n",
    "min = l[0]\n",
    "for x in l:\n",
    "    if x<min:\n",
    "        min = x\n",
    "print(min)   "
   ]
  },
  {
   "cell_type": "markdown",
   "id": "459f9272",
   "metadata": {},
   "source": [
    "# Write a program to check a list is empty or not"
   ]
  },
  {
   "cell_type": "code",
   "execution_count": 13,
   "id": "28bf7bdb",
   "metadata": {},
   "outputs": [
    {
     "name": "stdout",
     "output_type": "stream",
     "text": [
      "List is Empty\n"
     ]
    }
   ],
   "source": [
    "l=[ ]\n",
    "if l==[]:\n",
    "    print(\"List is Empty\")\n",
    "else:  \n",
    "    print(\"List is not empty\")"
   ]
  },
  {
   "cell_type": "markdown",
   "id": "037fa4fe",
   "metadata": {},
   "source": [
    "# Write a function that takes two lists and returns True if they have at least one common member"
   ]
  },
  {
   "cell_type": "code",
   "execution_count": 48,
   "id": "78460cdc",
   "metadata": {},
   "outputs": [
    {
     "data": {
      "text/plain": [
       "True"
      ]
     },
     "execution_count": 48,
     "metadata": {},
     "output_type": "execute_result"
    }
   ],
   "source": [
    "def compare(list1,list2): \n",
    "    for x in list1:\n",
    "        for y in list2:\n",
    "            if x==y:\n",
    "                return True\n",
    "    return False       \n",
    "list1=[1,2,3,4]\n",
    "list2=[8,9,0,1]\n",
    "compare(list1,list2)\n",
    "        "
   ]
  },
  {
   "cell_type": "markdown",
   "id": "4feca307",
   "metadata": {},
   "source": [
    "# 6. Write a Python program to print a specified list after removing the 0th, 4th and 5th elements. "
   ]
  },
  {
   "cell_type": "code",
   "execution_count": 39,
   "id": "20668a80",
   "metadata": {},
   "outputs": [
    {
     "name": "stdout",
     "output_type": "stream",
     "text": [
      "[2, 3, 4, 5, 7, 9]\n"
     ]
    }
   ],
   "source": [
    "l = [1,2,3,4,5,6,7,8,9]\n",
    "l.remove(l[0])\n",
    "l.remove(l[4])\n",
    "l.remove(l[5])\n",
    "print(l)"
   ]
  },
  {
   "cell_type": "markdown",
   "id": "a1ae7b42",
   "metadata": {},
   "source": [
    "# 7. Write a Python script to concatenate following dictionaries to create a new one. \n",
    "# Sample Dictionary :\n",
    "# dic1={1:10, 2:20}\n",
    "# dic2={3:30, 4:40}\n",
    "# dic3={5:50,6:60}\n",
    "# Expected Result : {1: 10, 2: 20, 3: 30, 4: 40, 5: 50, 6: 60}"
   ]
  },
  {
   "cell_type": "code",
   "execution_count": 41,
   "id": "7aa4ec05",
   "metadata": {},
   "outputs": [
    {
     "name": "stdout",
     "output_type": "stream",
     "text": [
      "Result Dict: {1: 10, 2: 20, 3: 30, 4: 40, 5: 50, 6: 60}\n"
     ]
    }
   ],
   "source": [
    "dic1={1:10, 2:20}\n",
    "dic2={3:30, 4:40}\n",
    "dic3={5:50,6:60}\n",
    "r_dict = {}\n",
    "r_dict.update(dic1)\n",
    "r_dict.update(dic2)\n",
    "r_dict.update(dic3)\n",
    "print(f'Result Dict: {r_dict}')"
   ]
  },
  {
   "cell_type": "markdown",
   "id": "42046866",
   "metadata": {},
   "source": [
    "# 8. Write a Python program to create a tuple with different data types."
   ]
  },
  {
   "cell_type": "code",
   "execution_count": 42,
   "id": "8b6b8644",
   "metadata": {},
   "outputs": [
    {
     "name": "stdout",
     "output_type": "stream",
     "text": [
      "(11, 12.23, 'ABC', [10, 'Madhur', 20.11], {'name': 'Madhur', 'rollno': 33})\n"
     ]
    }
   ],
   "source": [
    "tuple = (11,12.23,'ABC',[10,'Madhur',20.11],{'name':'Madhur','rollno':33})\n",
    "print(tuple)"
   ]
  },
  {
   "cell_type": "markdown",
   "id": "33cd5f40",
   "metadata": {},
   "source": [
    "# 9. Write a Python program to create a tuple with numbers and print one item."
   ]
  },
  {
   "cell_type": "code",
   "execution_count": 50,
   "id": "24b20fe6",
   "metadata": {},
   "outputs": [
    {
     "name": "stdout",
     "output_type": "stream",
     "text": [
      "Madhur\n"
     ]
    }
   ],
   "source": [
    "t = (10,20.22,'Madhur',40,22,11,'Chauhan')\n",
    "print(t[2])"
   ]
  },
  {
   "cell_type": "markdown",
   "id": "ce8dad31",
   "metadata": {},
   "source": [
    "# 10.Write a Python program to convert a tuple to a string"
   ]
  },
  {
   "cell_type": "code",
   "execution_count": 52,
   "id": "07a33c5f",
   "metadata": {},
   "outputs": [
    {
     "name": "stdout",
     "output_type": "stream",
     "text": [
      "('a', 'b', 'c', 'd', 'e', 'f', 'g')\n",
      "<class 'tuple'>\n",
      "abcdefg\n",
      "<class 'str'>\n"
     ]
    }
   ],
   "source": [
    "tuple = ('a','b','c','d','e','f','g')\n",
    "print(tuple)\n",
    "print(type(tuple))\n",
    "s=''.join(tuple)\n",
    "print(s)\n",
    "print(type(s))"
   ]
  },
  {
   "cell_type": "code",
   "execution_count": 54,
   "id": "7eb3ffe7",
   "metadata": {},
   "outputs": [
    {
     "name": "stdout",
     "output_type": "stream",
     "text": [
      "abcdefg\n",
      "<class 'str'>\n"
     ]
    }
   ],
   "source": [
    "def convertTuple(tup):\n",
    "    str = ''\n",
    "    for item in tup:\n",
    "        str += item\n",
    "    return str    \n",
    "tuple = ('a','b','c','d','e','f','g')\n",
    "str = convertTuple(tuple)\n",
    "print(str)\n",
    "print(type(str))\n"
   ]
  },
  {
   "cell_type": "markdown",
   "id": "7624389f",
   "metadata": {},
   "source": [
    "# 11.Write a Python program to get the 4th element and 4th element from last of a tuple."
   ]
  },
  {
   "cell_type": "code",
   "execution_count": 4,
   "id": "0fabb1a7",
   "metadata": {},
   "outputs": [
    {
     "name": "stdout",
     "output_type": "stream",
     "text": [
      "4th element from first:  4\n",
      "4th element from last:  12\n"
     ]
    }
   ],
   "source": [
    "t = (1,2,3,4,5,6,7,8,9,10,11,12,13,14,15)\n",
    "f_4th=t[3]\n",
    "l_4th=t[-4]\n",
    "print(\"4th element from first: \",f_4th)\n",
    "print(\"4th element from last: \",l_4th)"
   ]
  },
  {
   "cell_type": "markdown",
   "id": "32234fb8",
   "metadata": {},
   "source": [
    "# 12.Write a Python function to sum all the numbers in a list. Go to the editor\n",
    "# Sample List : (8, 2, 3, 0, 7)\n",
    "# Expected Output : 20"
   ]
  },
  {
   "cell_type": "code",
   "execution_count": 6,
   "id": "8ab98467",
   "metadata": {},
   "outputs": [
    {
     "name": "stdout",
     "output_type": "stream",
     "text": [
      "The Sum is:  20\n"
     ]
    }
   ],
   "source": [
    "l = [8,2,3,0,7]\n",
    "sum = 0\n",
    "for i in range(len(l)):\n",
    "    sum += l[i]\n",
    "print(\"The Sum is: \",sum)    "
   ]
  },
  {
   "cell_type": "markdown",
   "id": "51da050b",
   "metadata": {},
   "source": [
    "# 13.Write a Python function to multiply all the numbers in a list. Go to the editor\n",
    "# Sample List : (8, 2, 3, -1, 7)\n",
    "# Expected Output : -336"
   ]
  },
  {
   "cell_type": "code",
   "execution_count": 7,
   "id": "5356fa0a",
   "metadata": {},
   "outputs": [
    {
     "name": "stdout",
     "output_type": "stream",
     "text": [
      "The Product is:  -336\n"
     ]
    }
   ],
   "source": [
    "l = [8,2,3,-1,7]\n",
    "mul = 1\n",
    "for i in range(len(l)):\n",
    "    mul *= l[i]\n",
    "print(\"The Product is: \",mul)    "
   ]
  },
  {
   "cell_type": "markdown",
   "id": "446d592a",
   "metadata": {},
   "source": [
    "# 14.Calculate the sum of all numbers from 1 to a given number"
   ]
  },
  {
   "cell_type": "code",
   "execution_count": 11,
   "id": "1d41f3e4",
   "metadata": {},
   "outputs": [
    {
     "name": "stdout",
     "output_type": "stream",
     "text": [
      "Enter the number: 11\n",
      "The sum of all numbers from 1 to given number:  66\n"
     ]
    }
   ],
   "source": [
    "num = int(input(\"Enter the number: \"))\n",
    "sum =0\n",
    "for i in range(num+1):\n",
    "    sum += i\n",
    "print('The sum of all numbers from 1 to given number: ',sum)"
   ]
  },
  {
   "cell_type": "markdown",
   "id": "754c0447",
   "metadata": {},
   "source": [
    "# 15.Write a program to print multiplication table of a given number."
   ]
  },
  {
   "cell_type": "code",
   "execution_count": 13,
   "id": "d078fce0",
   "metadata": {},
   "outputs": [
    {
     "name": "stdout",
     "output_type": "stream",
     "text": [
      "Enter the number which you want to print table: 5\n",
      "5 * 1 = 5\n",
      "5 * 2 = 10\n",
      "5 * 3 = 15\n",
      "5 * 4 = 20\n",
      "5 * 5 = 25\n",
      "5 * 6 = 30\n",
      "5 * 7 = 35\n",
      "5 * 8 = 40\n",
      "5 * 9 = 45\n",
      "5 * 10 = 50\n"
     ]
    }
   ],
   "source": [
    "num = int(input(\"Enter the number which you want to print table: \"))\n",
    "for i in range(1,11):\n",
    "    print(num,'*',i,'=',num*i)"
   ]
  },
  {
   "cell_type": "markdown",
   "id": "579693bd",
   "metadata": {},
   "source": [
    "# 16.Display numbers from a list using loop"
   ]
  },
  {
   "cell_type": "code",
   "execution_count": 15,
   "id": "0b9ec9e4",
   "metadata": {},
   "outputs": [
    {
     "name": "stdout",
     "output_type": "stream",
     "text": [
      "The numbers of a list...\n",
      "10\n",
      "20\n",
      "50\n",
      "39\n",
      "25\n",
      "21\n"
     ]
    }
   ],
   "source": [
    "l = [10,20,50,39,25,21]\n",
    "print(\"The numbers of a list...\")\n",
    "for i in range(len(l)):\n",
    "    print(l[i])"
   ]
  },
  {
   "cell_type": "markdown",
   "id": "11e74bb3",
   "metadata": {},
   "source": [
    "# 17.Count the total number of digits in a number"
   ]
  },
  {
   "cell_type": "code",
   "execution_count": 19,
   "id": "fb7cc433",
   "metadata": {},
   "outputs": [
    {
     "name": "stdout",
     "output_type": "stream",
     "text": [
      "Enter the number:12345678901\n",
      "11\n"
     ]
    }
   ],
   "source": [
    "n = input(\"Enter the number:\")\n",
    "count = 0\n",
    "for i in range(len(n+'1')):\n",
    "    count+=i\n",
    "print(i)    "
   ]
  },
  {
   "cell_type": "markdown",
   "id": "c5a60417",
   "metadata": {},
   "source": [
    "# 18.A company decided to give bonus of 5% to employee if his/her year of service is more than 5 years.\n",
    "# Ask user for their salary and year of service and print the net bonus amount."
   ]
  },
  {
   "cell_type": "code",
   "execution_count": 21,
   "id": "b0d28810",
   "metadata": {},
   "outputs": [
    {
     "name": "stdout",
     "output_type": "stream",
     "text": [
      "Enter the salary of employee: 50000\n",
      "Enter the year of service of employee: 5\n",
      "Your year of service is not more than 5 years....\n"
     ]
    }
   ],
   "source": [
    "slry = float(input(\"Enter the salary of employee: \"))\n",
    "yr_of_service = int(input(\"Enter the year of service of employee: \"))\n",
    "if yr_of_service > 5:\n",
    "    print(\"The net bonus amount of employee: \",1/20*slry)\n",
    "else:\n",
    "    print(\"Your year of service is not more than 5 years....\")"
   ]
  },
  {
   "cell_type": "markdown",
   "id": "ad1420b4",
   "metadata": {},
   "source": [
    "# 20. A school has following rules for grading system:\n",
    "# a. Below 25 - F\n",
    "# b. 25 to 45 - E\n",
    "# c. 45 to 50 - D\n",
    "# d. 50 to 60 - C\n",
    "# e. 60 to 80 - B\n",
    "# f. Above 80 - A\n",
    "# Ask user to enter marks and print the corresponding grade."
   ]
  },
  {
   "cell_type": "code",
   "execution_count": 30,
   "id": "8c12a7c1",
   "metadata": {},
   "outputs": [
    {
     "name": "stdout",
     "output_type": "stream",
     "text": [
      "Enter the marks of student: 100\n",
      "Grade A\n"
     ]
    }
   ],
   "source": [
    "marks = int(input(\"Enter the marks of student: \"))\n",
    "if marks > 80:\n",
    "    print(\"Grade A\")\n",
    "elif marks > 60 and marks <= 80:\n",
    "    print(\"Grade B\")\n",
    "elif marks > 50 and marks <= 60:\n",
    "    print(\"Grade C\")\n",
    "elif marks > 45 and marks <= 50:\n",
    "    print(\"Grade D\")\n",
    "elif marks > 25 and marks <= 45:\n",
    "    print(\"Grade E\")\n",
    "else:\n",
    "    print(\"Grade F\")"
   ]
  },
  {
   "cell_type": "markdown",
   "id": "5124fbf4",
   "metadata": {},
   "source": [
    "# 21.Take input of age of 3 people by user and determine oldest and youngest among them."
   ]
  },
  {
   "cell_type": "code",
   "execution_count": 37,
   "id": "210571f4",
   "metadata": {},
   "outputs": [
    {
     "name": "stdout",
     "output_type": "stream",
     "text": [
      "Enter the age of 1st person: 34\n",
      "Enter the age of 2nd person: 23\n",
      "Enter the age of 3rd person: 12\n",
      "1st person is oldest\n",
      "3rd person is youngest\n"
     ]
    }
   ],
   "source": [
    "per1 = int(input(\"Enter the age of 1st person: \"))\n",
    "per2 = int(input(\"Enter the age of 2nd person: \"))\n",
    "per3 = int(input(\"Enter the age of 3rd person: \"))\n",
    "if per1>per2 and per1>per3:\n",
    "    print(\"1st person is oldest\")\n",
    "elif per2>per3:\n",
    "    print(\"2nd person is oldest\")\n",
    "else:\n",
    "    print(\"3rd person is oldest\")   \n",
    "if per1<per2 and per1<per3:\n",
    "    print(\"1st person is youngest\")\n",
    "elif per2<per3:\n",
    "    print(\"2nd person is youngest\")   \n",
    "else:\n",
    "    print(\"3rd person is youngest\")     "
   ]
  },
  {
   "cell_type": "markdown",
   "id": "d60b28aa",
   "metadata": {},
   "source": [
    "# 22.A student will not be allowed to sit in exam if his/her attendence is less than 75%.\n",
    "# Take following input from user\n",
    "# Number of classes held\n",
    "# Number of classes attended.\n",
    "# And print\n",
    "# percentage of class attended\n",
    "# Is student is allowed to sit in exam or not."
   ]
  },
  {
   "cell_type": "code",
   "execution_count": 41,
   "id": "2a610188",
   "metadata": {},
   "outputs": [
    {
     "name": "stdout",
     "output_type": "stream",
     "text": [
      "Enter the total number of classes held: 100\n",
      "Enter the number of classes of attended: 75\n",
      "Student is allowed to sit in exam, Your attendance percent is:  75.0 %\n"
     ]
    }
   ],
   "source": [
    "total_classes = int(input(\"Enter the total number of classes held: \"))\n",
    "class_attended = int(input(\"Enter the number of classes of attended: \"))\n",
    "per = class_attended/total_classes*100\n",
    "if per>=75:\n",
    "    print(\"Student is allowed to sit in exam, Your attendance percent is: \",per,\"%\")\n",
    "else:\n",
    "    print(\"Student is not allowed to sit in exam, Your attendance percent is: \",per,\"%\")   "
   ]
  },
  {
   "cell_type": "code",
   "execution_count": null,
   "id": "86c984a3",
   "metadata": {},
   "outputs": [],
   "source": []
  }
 ],
 "metadata": {
  "kernelspec": {
   "display_name": "Python 3 (ipykernel)",
   "language": "python",
   "name": "python3"
  },
  "language_info": {
   "codemirror_mode": {
    "name": "ipython",
    "version": 3
   },
   "file_extension": ".py",
   "mimetype": "text/x-python",
   "name": "python",
   "nbconvert_exporter": "python",
   "pygments_lexer": "ipython3",
   "version": "3.9.7"
  }
 },
 "nbformat": 4,
 "nbformat_minor": 5
}
